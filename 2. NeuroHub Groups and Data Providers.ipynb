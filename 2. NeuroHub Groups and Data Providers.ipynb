{
 "metadata": {
  "language_info": {
   "codemirror_mode": {
    "name": "ipython",
    "version": 3
   },
   "file_extension": ".py",
   "mimetype": "text/x-python",
   "name": "python",
   "nbconvert_exporter": "python",
   "pygments_lexer": "ipython3",
   "version": "3.9.1-final"
  },
  "orig_nbformat": 2,
  "kernelspec": {
   "name": "python3",
   "display_name": "Python 3.9.1 64-bit",
   "metadata": {
    "interpreter": {
     "hash": "ac2eaa0ea0ebeafcc7822e65e46aa9d4f966f30b695406963e145ea4a91cd4fc"
    }
   }
  }
 },
 "nbformat": 4,
 "nbformat_minor": 2,
 "cells": [
  {
   "source": [
    "# Groups and Data Providers"
   ],
   "cell_type": "markdown",
   "metadata": {}
  },
  {
   "source": [
    "## 0. Set up boilerplate\n",
    "\n",
    "Make sure the optional package is installed then import the packages we'll use."
   ],
   "cell_type": "markdown",
   "metadata": {}
  },
  {
   "cell_type": "code",
   "execution_count": null,
   "metadata": {},
   "outputs": [],
   "source": [
    "!pip install requests"
   ]
  },
  {
   "cell_type": "code",
   "execution_count": null,
   "metadata": {},
   "outputs": [],
   "source": [
    "import requests\n",
    "import json"
   ]
  },
  {
   "source": [
    "All API requests are done with respect to the `base_url` and with the API token from [NeuroHub New API Token](https://portal.neurohub.ca/nh_users/new_token)."
   ],
   "cell_type": "markdown",
   "metadata": {}
  },
  {
   "cell_type": "code",
   "execution_count": null,
   "metadata": {},
   "outputs": [],
   "source": [
    "base_url = 'https://portal.cbrain.mcgill.ca'\n",
    "cbrain_api_token = \"PASTE_API_TOKEN_HERE\""
   ]
  },
  {
   "source": [
    "## 1. Session\n",
    "\n",
    "Let's make sure we have a valid session with the API Token.\n"
   ],
   "cell_type": "markdown",
   "metadata": {}
  },
  {
   "cell_type": "code",
   "execution_count": null,
   "metadata": {},
   "outputs": [],
   "source": [
    "\n",
    "session_response = requests.post(\n",
    "    url = '/'.join([base_url, 'session']),\n",
    "    data = {'cbrain_api_token': cbrain_api_token},\n",
    "    headers = {'Accept': 'application/json'}\n",
    ")\n",
    "\n",
    "if session_response.status_code != requests.codes.ok:\n",
    "    print('Session not valid.')\n",
    "    print(json.dumps(session_response.json(), indent=4))\n",
    "else:\n",
    "    print('Session valid.')\n",
    "    session_info = session_response.json()\n",
    "    user_id = str(session_info['user_id'])\n",
    "    print(\"User ID:\", user_id)"
   ]
  },
  {
   "source": [
    "## 2. Groups / Projects\n",
    "\n",
    "Let's list all the groups and projects this user is a part of."
   ],
   "cell_type": "markdown",
   "metadata": {}
  },
  {
   "cell_type": "code",
   "execution_count": null,
   "metadata": {},
   "outputs": [],
   "source": [
    "groups_response = requests.get(\n",
    "    url = '/'.join([base_url, 'groups']),\n",
    "    data = {'cbrain_api_token': cbrain_api_token},\n",
    "    headers = {'Accept': 'application/json'}\n",
    ")\n",
    "\n",
    "if groups_response.status_code == requests.codes.ok:\n",
    "    groups_info = groups_response.json()\n",
    "    print(json.dumps(groups_info, indent=4))\n",
    "else:\n",
    "    print(\"Couldn't get list of groups.\")"
   ]
  },
  {
   "source": [
    "Let's get the information for a specific group id."
   ],
   "cell_type": "markdown",
   "metadata": {}
  },
  {
   "cell_type": "code",
   "execution_count": null,
   "metadata": {},
   "outputs": [],
   "source": [
    "last_group_id = groups_info[-1][\"id\"]\n",
    "print(last_group_id, '\\n')\n",
    "\n",
    "group_info_response = requests.get(\n",
    "    url = '/'.join([base_url, 'groups', str(last_group_id)]),\n",
    "    data = {'cbrain_api_token': cbrain_api_token},\n",
    "    headers = {'Accept': 'application/json'}\n",
    ")\n",
    "\n",
    "if group_info_response.status_code == requests.codes.ok:\n",
    "    group_info = group_info_response.json()\n",
    "    print(json.dumps(group_info, indent=4))\n",
    "else:\n",
    "    print(\"Couldn't get group info.\")"
   ]
  },
  {
   "source": [
    "## 3. Data Providers\n",
    "\n",
    "Let's list all the data providers that this user potentially has access to."
   ],
   "cell_type": "markdown",
   "metadata": {}
  },
  {
   "cell_type": "code",
   "execution_count": null,
   "metadata": {},
   "outputs": [],
   "source": [
    "data_providers_response = requests.get(\n",
    "    url = '/'.join([base_url, 'data_providers']),\n",
    "    data = {'cbrain_api_token': cbrain_api_token},\n",
    "    headers = {'Accept': 'application/json'}\n",
    ")\n",
    "\n",
    "if data_providers_response.status_code == requests.codes.ok:\n",
    "    data_providers_info = data_providers_response.json()\n",
    "    print(json.dumps(data_providers_info, indent=4))\n",
    "else:\n",
    "    print(\"Couldn't get list of data providers.\")"
   ]
  },
  {
   "source": [
    "Let's browse the files associated with an data provider id."
   ],
   "cell_type": "markdown",
   "metadata": {}
  },
  {
   "source": [
    "data_provider_id = 420\n",
    "data_provider_browse_response = requests.get(\n",
    "    url = '/'.join([base_url, 'data_providers', str(data_provider_id), 'browse']),\n",
    "    data = {'cbrain_api_token': cbrain_api_token},\n",
    "    headers = {'Accept': 'application/json'}\n",
    ")\n",
    "\n",
    "if data_provider_browse_response.status_code == requests.codes.ok:\n",
    "    data_provider_browse_info = data_provider_browse_response.json()\n",
    "    print(json.dumps(data_provider_browse_info, indent=4))\n",
    "else:\n",
    "    print(\"Couldn't browse a data provider.\")"
   ],
   "cell_type": "code",
   "metadata": {},
   "execution_count": null,
   "outputs": []
  },
  {
   "source": [
    "## 4. Destroy the session\n",
    "\n",
    "This will destroy the current session and API Token.  You will have to generate a new API Token at the URL in step 0 to do any further API requests."
   ],
   "cell_type": "markdown",
   "metadata": {}
  },
  {
   "cell_type": "code",
   "execution_count": null,
   "metadata": {},
   "outputs": [],
   "source": [
    "session_destroy_response = requests.delete(\n",
    "    url= '/'.join([base_url, 'session']),\n",
    "    data = {'cbrain_api_token': cbrain_api_token},\n",
    "    headers = {'Accept': 'application/json'}\n",
    ")\n",
    "\n",
    "if session_destroy_response.status_code == requests.codes.ok:\n",
    "    print(\"Session ended.\")\n",
    "else:\n",
    "    print(\"Session failure.\")"
   ]
  }
 ]
}