{
 "cells": [
  {
   "cell_type": "markdown",
   "metadata": {},
   "source": [
    "# Accessing NeuroHub using the CBRAIN API"
   ]
  },
  {
   "cell_type": "markdown",
   "metadata": {},
   "source": [
    "## 0. Set up boilerplate\n",
    "\n",
    "You **must** make sure the module `httpproxy/1.0` is loaded in your environment before starting this notebook on **[Béluga JupyterHub](https://jupyterhub.beluga.computecanada.ca/)**. **Do not** load the module in your `.bashrc`, it interferes with initial login, this is needed once you have a JupyterLab instance up and running.\n",
    "\n",
    "If you are running this notebook **anywhere else** you **must** first install the `requests` package."
   ]
  },
  {
   "cell_type": "code",
   "execution_count": null,
   "metadata": {},
   "outputs": [],
   "source": [
    "!pip install requests"
   ]
  },
  {
   "source": [
    "Next, let's import libraries that are required to send HTTP requests and manipulate JSON data.\n"
   ],
   "cell_type": "markdown",
   "metadata": {}
  },
  {
   "cell_type": "code",
   "execution_count": null,
   "metadata": {},
   "outputs": [],
   "source": [
    "import requests\n",
    "import json\n",
    "import getpass"
   ]
  },
  {
   "cell_type": "markdown",
   "metadata": {},
   "source": [
    "We define the API endpoint. See the [CBRAIN API](https://portal.cbrain.mcgill.ca/swagger#/) for more information about how to use the API."
   ]
  },
  {
   "cell_type": "code",
   "execution_count": null,
   "metadata": {},
   "outputs": [],
   "source": [
    "base_url = 'https://portal.cbrain.mcgill.ca'"
   ]
  },
  {
   "cell_type": "markdown",
   "metadata": {},
   "source": [
    "## 1. Connect to NeuroHub\n",
    "\n",
    "Connect to NeuroHub with a *username/password* or a generated API *token*.  See the [NeuroHub Portal](https://neurohub.ca/portal.html) for information about how to register for an account."
   ]
  },
  {
   "source": [
    "### 1.b Connect with username/password\n",
    "\n",
    "We can use username/password authentication where we `POST` our `credentials` to `/session` and get a token that will need to be sent as a parameter within each subsequent request."
   ],
   "cell_type": "markdown",
   "metadata": {}
  },
  {
   "cell_type": "code",
   "execution_count": null,
   "metadata": {
    "tags": []
   },
   "outputs": [],
   "source": [
    "credentials = {\n",
    "    'login': input('username'),\n",
    "    'password': getpass.getpass('password')\n",
    "}\n",
    "\n",
    "session_response = requests.post(\n",
    "    url = '/'.join([base_url, 'session']),\n",
    "    data = credentials,\n",
    "    headers = {'Accept': 'application/json'}\n",
    ")\n",
    "\n",
    "if session_response.status_code != requests.codes.ok:\n",
    "    print('Login failed.')\n",
    "    print(session_response)\n",
    "else:\n",
    "    print('Login successful.')\n",
    "    session_info = session_response.json()\n",
    "    cbrain_api_token = session_info['cbrain_api_token']\n",
    "    user_id = str(session_info['user_id'])\n",
    "    print(\"User ID:\", user_id)"
   ]
  },
  {
   "source": [
    "### 1.b Connect with an API token\n",
    "\n",
    "*Alternatively*, we can generate a [NeuroHub API Token](https://portal.neurohub.ca/myaccount) via the NeuroHub Portal itself.  Copy the generated new API token and paste it below then we'll get your user ID."
   ],
   "cell_type": "markdown",
   "metadata": {}
  },
  {
   "cell_type": "code",
   "execution_count": null,
   "metadata": {
    "tags": []
   },
   "outputs": [],
   "source": [
    "cbrain_api_token = \"PASTE_NEUROHUB_API_TOKEN_HERE\"\n",
    "\n",
    "session_token_response = requests.post(\n",
    "    url = '/'.join([base_url, 'session']),\n",
    "    data = {'cbrain_api_token': cbrain_api_token},\n",
    "    headers = {'Accept': 'application/json'}\n",
    ")\n",
    "\n",
    "if session_token_response.status_code != requests.codes.ok:\n",
    "    print('Session not valid.')\n",
    "    print(session_token_response)\n",
    "else:\n",
    "    print('Session valid.')\n",
    "    session_info = session_token_response.json()\n",
    "    user_id = str(session_info['user_id'])\n",
    "    print(\"User ID:\", user_id)"
   ]
  },
  {
   "cell_type": "markdown",
   "metadata": {},
   "source": [
    "## 2. User files\n",
    "\n",
    "### 2.a Get all user-accessible files \n",
    "\n",
    "***WARNING:*** This step may take many minutes. You may want to skip this and the following subsection.\n",
    "\n",
    "We `GET` our `request` from `/userfiles` for a list of all the files we have access to.  Notice that we page through the results, requesting a subsequent page until done."
   ]
  },
  {
   "cell_type": "code",
   "execution_count": null,
   "metadata": {
    "scrolled": true,
    "tags": []
   },
   "outputs": [],
   "source": [
    "try:\n",
    "    user_id = str(session_info['user_id'])\n",
    "    cbrain_api_token = session_info['cbrain_api_token']\n",
    "except NameError:\n",
    "    raise UserWarning('Login first.')\n",
    " \n",
    "files = []\n",
    "files_request = {\n",
    "    'cbrain_api_token': cbrain_api_token,\n",
    "    'page': 1,\n",
    "    'per_page': 1000\n",
    "}\n",
    "\n",
    "while True:\n",
    "\n",
    "    files_response = requests.get(\n",
    "        url = '/'.join([base_url, 'userfiles']),\n",
    "        data = files_request,\n",
    "        headers = {'Accept': 'application/json'}\n",
    "    )\n",
    "\n",
    "    if files_response.status_code != requests.codes.ok:\n",
    "        print('User files request failed.')\n",
    "        print(files_response)\n",
    "        break\n",
    "\n",
    "    # Collect the responses on this page then increment\n",
    "    files += files_response.json()\n",
    "    files_request['page'] += 1\n",
    "    \n",
    "    # Stop requesting responses when we're at the last page\n",
    "    if len(files_response.json()) < files_request['per_page']:\n",
    "        break \n",
    "    \n",
    "print(\"{} files found\\n\".format(str(len(files))))"
   ]
  },
  {
   "cell_type": "markdown",
   "metadata": {},
   "source": [
    "### 2.b Filter files\n",
    "The list of files above can be filtered on any of their properties.  Here we filter for a name that contains the `.nii.gz` extension."
   ]
  },
  {
   "cell_type": "code",
   "execution_count": null,
   "metadata": {
    "tags": []
   },
   "outputs": [],
   "source": [
    "filter_results = list(filter(lambda f: '.nii.gz' in f['name'], files))\n",
    "print(\"{} filtered results found\".format(str(len(filter_results))))"
   ]
  },
  {
   "source": [
    "Let's arbitrarily get the first of these files."
   ],
   "cell_type": "markdown",
   "metadata": {}
  },
  {
   "cell_type": "code",
   "execution_count": null,
   "metadata": {
    "tags": []
   },
   "outputs": [],
   "source": [
    "file_info = filter_results[0]\n",
    "file_id = str(file_info['id'])\n",
    "print(json.dumps(file_info, indent=4))"
   ]
  },
  {
   "source": [
    "### 2.c Get a single file\n",
    "\n",
    "*Alternatively*, we can get the file directly if we know it's file ID. You can get the file ID by navigating the the file info page on the NeuroHub portal and note the digits in the URL: https://portal.neurohub.ca/userfiles/FILE_ID"
   ],
   "cell_type": "markdown",
   "metadata": {}
  },
  {
   "cell_type": "code",
   "execution_count": null,
   "metadata": {
    "tags": []
   },
   "outputs": [],
   "source": [
    "file_id = \"PASTE_FILE_ID_HERE\"\n",
    "\n",
    "file_response = requests.get(\n",
    "    url = '/'.join([base_url, 'userfiles', file_id]),\n",
    "    data = {'cbrain_api_token': cbrain_api_token},\n",
    "    headers = {'Accept': 'application/json'}\n",
    ")\n",
    "\n",
    "file_info = file_response.json()\n",
    "print(json.dumps(file_info, indent=4))"
   ]
  },
  {
   "cell_type": "markdown",
   "metadata": {},
   "source": [
    "### 2.d Get file contents\n",
    "\n",
    "We `GET` the user file content from `/userfiles/{id}/content` for the first filtered result."
   ]
  },
  {
   "cell_type": "code",
   "execution_count": null,
   "metadata": {
    "tags": []
   },
   "outputs": [],
   "source": [
    "file_content_response = requests.get(\n",
    "    url = '/'.join([base_url, 'userfiles', file_id, 'content']),\n",
    "    data = {'cbrain_api_token': cbrain_api_token},\n",
    "    headers = {'Accept': 'application/json'}\n",
    ")\n",
    "\n",
    "# What did I forget here?\n",
    "\n",
    "print(file_content_response.headers)\n",
    "file_content = file_content_response.content"
   ]
  },
  {
   "cell_type": "markdown",
   "metadata": {},
   "source": [
    "### 2.e Process data\n",
    "\n",
    "You can now do any interactive processing with `response.content`.\n",
    "\n",
    "Let's compare the computed size to the stated size."
   ]
  },
  {
   "cell_type": "code",
   "execution_count": null,
   "metadata": {
    "tags": []
   },
   "outputs": [],
   "source": [
    "print(len(file_content))\n",
    "print(file_info['size'])"
   ]
  },
  {
   "source": [
    "## 3. Logout\n",
    "\n",
    "Destroy the current session ans API Token by sending a `DELETE` to `/session`.  You'll have to go back to step 1 to login with a username/password or generate a new API Token."
   ],
   "cell_type": "markdown",
   "metadata": {}
  },
  {
   "cell_type": "code",
   "execution_count": null,
   "metadata": {},
   "outputs": [],
   "source": [
    "session_destroy_response = requests.delete(\n",
    "    url= '/'.join([base_url, 'session']),\n",
    "    data = {'cbrain_api_token': cbrain_api_token},\n",
    "    headers = {'Accept': 'application/json'}\n",
    ")\n",
    "\n",
    "if session_destroy_response.status_code == requests.codes.ok:\n",
    "    print(\"Session ended.\")\n",
    "else:\n",
    "    print(\"Session failure.\")"
   ]
  }
 ],
 "metadata": {
  "kernelspec": {
   "display_name": "Python 3",
   "language": "python",
   "name": "python3"
  },
  "language_info": {
   "codemirror_mode": {
    "name": "ipython",
    "version": 3
   },
   "file_extension": ".py",
   "mimetype": "text/x-python",
   "name": "python",
   "nbconvert_exporter": "python",
   "pygments_lexer": "ipython3",
   "version": "3.8.5-final"
  }
 },
 "nbformat": 4,
 "nbformat_minor": 2
}