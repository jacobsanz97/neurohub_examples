{
 "cells": [
  {
   "cell_type": "markdown",
   "metadata": {},
   "source": [
    "# Accessing NeuroHub using the CBRAIN API"
   ]
  },
  {
   "cell_type": "markdown",
   "metadata": {},
   "source": [
    "## 0. Set up boilerplate\n",
    "\n",
    "You **must** make sure the module `httpproxy/1.0` is loaded in your environment before starting this notebook on [JupyterLab on Beluga](https://jupyterhub.beluga.computecanada.ca/). **Do not** load the module in your `.bashrc`, it interferes with login node, this is needed for the compute nodes only.\n",
    "\n",
    "Let's first import libraries that are required to send HTTP requests and manipulate JSON data."
   ]
  },
  {
   "cell_type": "code",
   "execution_count": null,
   "metadata": {},
   "outputs": [],
   "source": [
    "import requests\n",
    "import json\n",
    "import getpass"
   ]
  },
  {
   "cell_type": "markdown",
   "metadata": {},
   "source": [
    "We define the API endpoint. See the [CBRAIN API](https://portal.cbrain.mcgill.ca/swagger#/) for more information about how to use the API."
   ]
  },
  {
   "cell_type": "code",
   "execution_count": null,
   "metadata": {},
   "outputs": [],
   "source": [
    "base_url = 'https://portal.cbrain.mcgill.ca'"
   ]
  },
  {
   "cell_type": "markdown",
   "metadata": {},
   "source": [
    "## 1. Connect to NeuroHub\n",
    "\n",
    "Connect to NeuroHub with a username and a password.  See the [NeuroHub Portal](https://neurohub.ca/portal.html) for information about how to register for an account.\n",
    "\n",
    "We could use token-based authentication: login to the [NeuroHub Portal](https://neurohub.ca/portal.html) to generate a token.\n",
    "\n",
    "Here we'll use username/password authentication where we `POST` our `credentials` to `/session` and get a token that will need to be sent as a parameter within each subsequent request. The token response is stored in `session_info`."
   ]
  },
  {
   "cell_type": "code",
   "execution_count": null,
   "metadata": {
    "tags": []
   },
   "outputs": [],
   "source": [
    "credentials = {\n",
    "    'login': input('username'),\n",
    "    'password': getpass.getpass('password')\n",
    "}\n",
    "\n",
    "response = requests.post(\n",
    "    url = '/'.join([base_url, 'session']),\n",
    "    data = credentials,\n",
    "    headers = {'Accept': 'application/json'}\n",
    ")\n",
    "\n",
    "if response.status_code != requests.codes.ok:\n",
    "    print('Login failed.')\n",
    "    print(response)\n",
    "else:\n",
    "    session_info = response.json()\n",
    "    print('Login successful.')\n",
    "    print(session_info['user_id'])"
   ]
  },
  {
   "cell_type": "markdown",
   "metadata": {},
   "source": [
    "## 2. Get all user-accessible files\n",
    "\n",
    "We `GET` our `request` from `/userfiles` for a list of all the files we have access to. This may be many thousands of files and ***may take many minutes***. "
   ]
  },
  {
   "cell_type": "code",
   "execution_count": null,
   "metadata": {
    "scrolled": true,
    "tags": []
   },
   "outputs": [],
   "source": [
    "try:\n",
    "\n",
    "    user_id = str(session_info['user_id'])\n",
    "    cbrain_api_token = session_info['cbrain_api_token']\n",
    "\n",
    "except NameError:\n",
    "    raise UserWarning('Login first.')\n",
    " \n",
    "files = []\n",
    "\n",
    "request = {\n",
    "    'cbrain_api_token': cbrain_api_token,\n",
    "    'page': 1,\n",
    "    'per_page': 1000\n",
    "}\n",
    "\n",
    "while True:\n",
    "\n",
    "    response = requests.get(\n",
    "        url = '/'.join([base_url, 'userfiles']),\n",
    "        data = request,\n",
    "        headers = {'Accept': 'application/json'}\n",
    "    )\n",
    "\n",
    "    if response.status_code != requests.codes.ok:\n",
    "        print('User files request failed.')\n",
    "        print(response)\n",
    "        break\n",
    "\n",
    "    # Collect the responses on this page then increment\n",
    "    files += response.json()\n",
    "    request['page'] += 1\n",
    "    \n",
    "    # Stop requesting responses when we're at the last page\n",
    "    if len(response.json()) < request['per_page']:\n",
    "        break \n",
    "    \n",
    "print(\"{} files found\\n\".format(str(len(files))))"
   ]
  },
  {
   "cell_type": "markdown",
   "metadata": {},
   "source": [
    "## 3. Example usage\n",
    "### 3.a Filter files\n",
    "Files can be filtered on any of their properties.  Here we filter for a name that contains `mnc`."
   ]
  },
  {
   "cell_type": "code",
   "execution_count": null,
   "metadata": {
    "tags": [
     "outputPrepend"
    ]
   },
   "outputs": [],
   "source": [
    "result = list(filter(lambda f: 'mnc' in f['name'], files))\n",
    "print(json.dumps(result, indent=4, sort_keys=True))"
   ]
  },
  {
   "cell_type": "markdown",
   "metadata": {},
   "source": [
    "### 3.b Get file contents\n",
    "\n",
    "We `GET` the user file content from `/userfiles/{id}/content` for the first filtered result."
   ]
  },
  {
   "cell_type": "code",
   "execution_count": null,
   "metadata": {
    "tags": []
   },
   "outputs": [],
   "source": [
    "response = requests.get(\n",
    "    url = '/'.join([base_url, 'userfiles', str(result[0]['id']), 'content']),\n",
    "    data = {'cbrain_api_token': cbrain_api_token},\n",
    "    headers = {'Accept': 'application/json'}\n",
    ")\n",
    "\n",
    "print(response.headers)"
   ]
  },
  {
   "cell_type": "markdown",
   "metadata": {},
   "source": [
    "### 3.c Process data\n",
    "\n",
    "You can now do any interactive processing with `response.content`.\n",
    "\n",
    "Let's compare the computed size to the stated size."
   ]
  },
  {
   "cell_type": "code",
   "execution_count": null,
   "metadata": {
    "tags": []
   },
   "outputs": [],
   "source": [
    "print(len(response.content))\n",
    "print(result[0]['size'])"
   ]
  }
 ],
 "metadata": {
  "kernelspec": {
   "display_name": "Python 3.8.5 64-bit",
   "language": "python",
   "name": "python_defaultSpec_1597243344806"
  },
  "language_info": {
   "codemirror_mode": {
    "name": "ipython",
    "version": 3
   },
   "file_extension": ".py",
   "mimetype": "text/x-python",
   "name": "python",
   "nbconvert_exporter": "python",
   "pygments_lexer": "ipython3",
   "version": "3.8.5-final"
  }
 },
 "nbformat": 4,
 "nbformat_minor": 2
}