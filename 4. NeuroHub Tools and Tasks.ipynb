{
 "metadata": {
  "language_info": {
   "codemirror_mode": {
    "name": "ipython",
    "version": 3
   },
   "file_extension": ".py",
   "mimetype": "text/x-python",
   "name": "python",
   "nbconvert_exporter": "python",
   "pygments_lexer": "ipython3",
   "version": "3.9.1-final"
  },
  "orig_nbformat": 2,
  "kernelspec": {
   "name": "python3",
   "display_name": "Python 3.9.1 64-bit",
   "metadata": {
    "interpreter": {
     "hash": "ac2eaa0ea0ebeafcc7822e65e46aa9d4f966f30b695406963e145ea4a91cd4fc"
    }
   }
  }
 },
 "nbformat": 4,
 "nbformat_minor": 2,
 "cells": [
  {
   "source": [
    "# NeuroHub Tools and Tasks"
   ],
   "cell_type": "markdown",
   "metadata": {}
  },
  {
   "source": [
    "## 0. Set up boilerplate\n",
    "\n",
    "Make sure the optional package is installed then import the packages we'll use."
   ],
   "cell_type": "markdown",
   "metadata": {}
  },
  {
   "cell_type": "code",
   "execution_count": null,
   "metadata": {},
   "outputs": [],
   "source": [
    "!pip install requests"
   ]
  },
  {
   "cell_type": "code",
   "execution_count": null,
   "metadata": {},
   "outputs": [],
   "source": [
    "import requests\n",
    "import json"
   ]
  },
  {
   "source": [
    "All API requests are done with respect to the `base_url` and with the API token from [NeuroHub New API Token](https://portal.neurohub.ca/nh_users/new_token)."
   ],
   "cell_type": "markdown",
   "metadata": {}
  },
  {
   "cell_type": "code",
   "execution_count": null,
   "metadata": {},
   "outputs": [],
   "source": [
    "base_url = 'https://portal.cbrain.mcgill.ca'\n",
    "cbrain_api_token = \"PASTE_NEUROHUB_API_TOKEN_HERE\""
   ]
  },
  {
   "source": [
    "## 1. Session\n",
    "\n",
    "Do we have a valid session?"
   ],
   "cell_type": "markdown",
   "metadata": {}
  },
  {
   "cell_type": "code",
   "execution_count": null,
   "metadata": {},
   "outputs": [],
   "source": [
    "session_response = requests.post(\n",
    "    url = '/'.join([base_url, 'session']),\n",
    "    data = {'cbrain_api_token': cbrain_api_token},\n",
    "    headers = {'Accept': 'application/json'}\n",
    ")\n",
    "\n",
    "if session_response.status_code != requests.codes.ok:\n",
    "    print('Session is not valid.')\n",
    "    print(json.dumps(session_response.json(), indent=4))\n",
    "else:\n",
    "    print('Session is valid.')\n",
    "    session_info = session_response.json()\n",
    "    user_id = str(session_info['user_id'])\n",
    "    print(\"User ID:\", user_id)"
   ]
  },
  {
   "source": [
    "## 2. Tool Configs / Pipelines\n",
    "\n",
    "List all possible pipelines.  That is, list all tool configurations where a particular tool can run on a particular bourreau."
   ],
   "cell_type": "markdown",
   "metadata": {}
  },
  {
   "cell_type": "code",
   "execution_count": null,
   "metadata": {
    "tags": []
   },
   "outputs": [],
   "source": [
    "tool_configs = []\n",
    "tool_configs_request = {\n",
    "    'cbrain_api_token': cbrain_api_token,\n",
    "    'page': 1,\n",
    "    'per_page': 1000\n",
    "}\n",
    "\n",
    "while True:\n",
    "\n",
    "    tool_configs_response = requests.get(\n",
    "        url = '/'.join([base_url, 'tool_configs']),\n",
    "        data = tool_configs_request,\n",
    "        headers = {'Accept': 'application/json'}\n",
    "    )\n",
    "\n",
    "    if tool_configs_response.status_code != requests.codes.ok:\n",
    "        print('Tools request failed.')\n",
    "        print(tool_configs_response)\n",
    "        break\n",
    "\n",
    "    tool_configs += tool_configs_response.json()\n",
    "    tool_configs_request['page'] += 1\n",
    "    \n",
    "    if len(tool_configs_response.json()) < tool_configs_request['per_page']:\n",
    "        break \n",
    "    \n",
    "print(\"{} tool configs found\\n\".format(str(len(tools))))\n",
    "print(json.dumps(tool_configs, indent=4))"
   ]
  },
  {
   "source": [
    "As we did before with user files, we can now filter the tools by words in their description. Let's filter to find all tools with the word `FSL` in the description. \n",
    "\n",
    "The tool config ID is the `id` field. You can use the `bourreau_id` and `tool_id` to get information about these and verify this is the correct pipeline you wish to use."
   ],
   "cell_type": "markdown",
   "metadata": {}
  },
  {
   "cell_type": "code",
   "execution_count": null,
   "metadata": {},
   "outputs": [],
   "source": [
    "result = list(filter(lambda f: 'FSL' in f['description'], tools))\n",
    "print(json.dumps(result, indent=4))"
   ]
  },
  {
   "source": [
    "## 3. Submit a task\n",
    "\n",
    "TODO\n",
    "\n",
    "For this example we will use submit a task using a particular tool config (`id: 721`) with a `.nii.gz` file to FSLFirst (`tool_id: 51`) on Converter-2 (`bourreau_id: 39`).\n",
    "\n",
    "**Note that this needs a valid userfile ID to run. A public data provider to hold example files for this notebook is in the works.**"
   ],
   "cell_type": "markdown",
   "metadata": {}
  },
  {
   "cell_type": "code",
   "execution_count": null,
   "metadata": {},
   "outputs": [],
   "source": [
    "#Store the ID of the file we wish to run a task on. In this case, the first filtered result from the\n",
    "#files loaded in the previous section. Feel free to change it to a brainscan you have access to.\n",
    "fileID = result[0]['id']\n",
    "\n",
    "#Write the post API call\n",
    "headers = {\n",
    "    'Content-Type': 'application/json',\n",
    "    'Accept': 'application/json',\n",
    "}\n",
    "params = (\n",
    "    ('cbrain_api_token', cbrain_api_token),\n",
    ")\n",
    "\n",
    "#Specify the parameters of the task in a dictionary. We are running FSLFirst to register the brain scan.\n",
    "data = {\n",
    "  \"cbrain_task\": {\n",
    "    'type': 'CbrainTask::FslFirst', \n",
    "    'user_id': user_id,\n",
    "    'tool_config_id': 721, #This specifies the Tool we are running, and the server we are running it on.\n",
    "    'params': { #These parameters vary from tool to tool.\n",
    "      'interface_userfile_ids': [fileID], \n",
    "      'input_file': fileID, \n",
    "      'prefix': 'output', \n",
    "      'brain_extracted': False, \n",
    "      'three_stage': False, \n",
    "      'verbose': False       \n",
    "    }, \n",
    "    'run_number': None, \n",
    "    'results_data_provider_id': 179, \n",
    "    'cluster_workdir_size': None, \n",
    "    'workdir_archived': True, \n",
    "    'description': ''}\n",
    "}\n",
    "\n",
    "#Convert our parameter dictionary to a json and post the task.\n",
    "y = json.dumps(data)\n",
    "response = requests.post('https://portal.cbrain.mcgill.ca/tasks', headers=headers, params=params, data=y)\n",
    "\n",
    "if response.status_code == 200:\n",
    "    print(response.text)\n",
    "    json_format = json.loads(response.text) #save the response to a json file for future use\n",
    "else:\n",
    "    print(\"Task posting failed.\")\n",
    "    print(response.text)"
   ]
  },
  {
   "source": [
    "Let's track the completion status of the task."
   ],
   "cell_type": "markdown",
   "metadata": {}
  },
  {
   "cell_type": "code",
   "execution_count": null,
   "metadata": {},
   "outputs": [],
   "source": [
    "taskID = json_format[0][\"id\"]\n",
    "headers = {\n",
    "    'Accept': 'application/json',\n",
    "}\n",
    "params = (\n",
    "    ('id', taskID),\n",
    "    ('cbrain_api_token', cbrain_api_token)\n",
    ")\n",
    "url = 'https://portal.cbrain.mcgill.ca/tasks/' + str(taskID)\n",
    "response = requests.get(url, headers=headers, params=params)\n",
    "if response.status_code == 200:\n",
    "    print(response.text)\n",
    "else:\n",
    "    print(\"Task Info retrieval failed.\")"
   ]
  }
 ]
}